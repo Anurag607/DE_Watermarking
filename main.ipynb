{
 "cells": [
  {
   "cell_type": "code",
   "execution_count": 1,
   "metadata": {},
   "outputs": [
    {
     "name": "stdout",
     "output_type": "stream",
     "text": [
      "Optimal scaling factor: [0.1]\n",
      "Function value: 0.0\n"
     ]
    }
   ],
   "source": [
    "import cv2\n",
    "import numpy as np\n",
    "import pywt\n",
    "from scipy.linalg import svd, diagsvd\n",
    "from scipy.optimize import differential_evolution\n",
    "from target import target_func"
   ]
  },
  {
   "cell_type": "code",
   "execution_count": 2,
   "metadata": {},
   "outputs": [],
   "source": [
    "def rgb_to_yiq(rgb_image):\n",
    "    transformation_matrix = np.array([[0.299, 0.587, 0.114],\n",
    "                                      [0.596, -0.275, -0.321],\n",
    "                                      [0.212, -0.523, 0.311]])\n",
    "    yiq_image = np.dot(rgb_image, transformation_matrix.T)\n",
    "    return yiq_image\n",
    "\n",
    "def yiq_to_rgb(yiq_image):\n",
    "    transformation_matrix = np.array([[1.000, 0.956, 0.620],\n",
    "                                      [1.000, -0.272, -0.647],\n",
    "                                      [1.000, -1.108, 1.703]])\n",
    "    rgb_image = np.dot(yiq_image, np.linalg.inv(transformation_matrix.T))\n",
    "    return rgb_image\n",
    "\n",
    "def apply_dwt(image):\n",
    "    coeffs = pywt.dwt2(image, 'haar')\n",
    "    cA, (cH, cV, cD) = coeffs\n",
    "    return coeffs\n",
    "\n",
    "def apply_svd(matrix):\n",
    "    U, S, Vt = svd(matrix, full_matrices=False)\n",
    "    return U, S, Vt\n",
    "\n",
    "def watermark_embedding(U, S, Vt, watermark_matrix, scale_factor):\n",
    "    print(f'S: {S}')\n",
    "    print(f'SF: {scale_factor}')\n",
    "    print(f'WM: ${watermark_matrix}')\n",
    "    S_w = (scale_factor * watermark_matrix) + S\n",
    "    watermarked_matrix = np.dot(U, np.dot(diagsvd(S_w, *U.shape), Vt))\n",
    "    return watermarked_matrix\n",
    "\n",
    "def differential_evolution_optimization(bounds):\n",
    "    result = differential_evolution(target_func, bounds)\n",
    "    return result.x"
   ]
  },
  {
   "cell_type": "code",
   "execution_count": 3,
   "metadata": {},
   "outputs": [],
   "source": [
    "host_image = cv2.imread('./assets/host_image.png')\n",
    "watermark_image = cv2.imread('./assets/watermark_image.png', cv2.IMREAD_GRAYSCALE)"
   ]
  },
  {
   "cell_type": "code",
   "execution_count": 6,
   "metadata": {},
   "outputs": [],
   "source": [
    "# Convert to YIQ color space\n",
    "\n",
    "host_image_yiq = rgb_to_yiq(host_image / 255.0)  # Normalized\n",
    "\n",
    "cv2.imshow(\"Host Image RGB\", host_image)\n",
    "\n",
    "cv2.imshow(\"Host Image YIQ\", host_image_yiq)\n",
    "\n",
    "# waits for user to press any key \n",
    "# (this is necessary to avoid Python kernel form crashing) \n",
    "cv2.waitKey(0) \n",
    "  \n",
    "# closing all open windows \n",
    "cv2.destroyAllWindows() "
   ]
  },
  {
   "cell_type": "code",
   "execution_count": null,
   "metadata": {},
   "outputs": [],
   "source": [
    "# Apply DWT to luminance channel\n",
    "\n",
    "coeffs = apply_dwt(host_image_yiq[:, :, 0])\n",
    "cA, (cH, cV, cD) = coeffs"
   ]
  },
  {
   "cell_type": "code",
   "execution_count": null,
   "metadata": {},
   "outputs": [],
   "source": [
    "# Apply SVD\n",
    "\n",
    "U, S, Vt = apply_svd(cA)"
   ]
  },
  {
   "cell_type": "code",
   "execution_count": null,
   "metadata": {},
   "outputs": [],
   "source": [
    "# Example scale factor (use DE to find optimal)\n",
    "\n",
    "scale_factor = 0.05  # This should be optimized"
   ]
  },
  {
   "cell_type": "code",
   "execution_count": null,
   "metadata": {},
   "outputs": [],
   "source": [
    "# Watermark embedding\n",
    "\n",
    "watermarked_cA = watermark_embedding(U, S, Vt, watermark_image, scale_factor)"
   ]
  }
 ],
 "metadata": {
  "kernelspec": {
   "display_name": "env",
   "language": "python",
   "name": "python3"
  },
  "language_info": {
   "codemirror_mode": {
    "name": "ipython",
    "version": 3
   },
   "file_extension": ".py",
   "mimetype": "text/x-python",
   "name": "python",
   "nbconvert_exporter": "python",
   "pygments_lexer": "ipython3",
   "version": "3.12.2"
  }
 },
 "nbformat": 4,
 "nbformat_minor": 2
}
